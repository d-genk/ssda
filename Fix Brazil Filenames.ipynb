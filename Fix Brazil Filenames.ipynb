{
 "cells": [
  {
   "cell_type": "code",
   "execution_count": 5,
   "metadata": {},
   "outputs": [],
   "source": [
    "import os\n",
    "\n",
    "os.chdir('\\\\\\\\libshare.library.vanderbilt.edu\\\\vulibrary\\\\Landers\\\\new_organization')\n",
    "\n",
    "for folderName, subFolders, fileNames in os.walk('EAP1047_raw\\\\ACMN\\\\EAP1047_ACMN_CatNit\\\\BATISMOS\\\\EAP1047_ACMN_CatNit_Livro8deBatismosEscravosF\\\\JPEG'):\n",
    "    for fileName in fileNames:\n",
    "        openParen = fileName.find('(')\n",
    "        if fileName.find(')') == openParen + 3:           \n",
    "            newName = fileName[:openParen + 1]\n",
    "            newName += '0'\n",
    "            newName += fileName[openParen + 1:]\n",
    "            os.rename(folderName + '\\\\' + fileName, folderName + '\\\\' + newName)"
   ]
  },
  {
   "cell_type": "code",
   "execution_count": null,
   "metadata": {
    "collapsed": true
   },
   "outputs": [],
   "source": []
  }
 ],
 "metadata": {
  "kernelspec": {
   "display_name": "Python 3",
   "language": "python",
   "name": "python3"
  },
  "language_info": {
   "codemirror_mode": {
    "name": "ipython",
    "version": 3
   },
   "file_extension": ".py",
   "mimetype": "text/x-python",
   "name": "python",
   "nbconvert_exporter": "python",
   "pygments_lexer": "ipython3",
   "version": "3.6.3"
  }
 },
 "nbformat": 4,
 "nbformat_minor": 2
}
