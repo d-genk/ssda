{
 "cells": [
  {
   "cell_type": "code",
   "execution_count": 8,
   "metadata": {},
   "outputs": [],
   "source": [
    "import os, shutil\n",
    "\n",
    "counter = 0\n",
    "xml_directory = \"\\\\\\\\libshare.library.vanderbilt.edu\\\\vulibrary\\\\Landers\\\\new_organization\\\\11_14_19_volume_xml\"\n",
    "\n",
    "for folder, sub_folders, files in os.walk(\"\\\\\\\\libshare.library.vanderbilt.edu\\\\vulibrary\\\\Landers\\\\new_organization\\\\Volumes\"):\n",
    "    for file in files:\n",
    "            if \"xml\" in  file:\n",
    "                file_parts = file.split('.')\n",
    "                folder_parts = folder.split('\\\\')\n",
    "                shutil.copyfile(folder + '\\\\' + file, xml_directory + '\\\\' + folder_parts[len(folder_parts) - 2] + file_parts[0] + '.' + file_parts[1])"
   ]
  },
  {
   "cell_type": "code",
   "execution_count": null,
   "metadata": {
    "collapsed": true
   },
   "outputs": [],
   "source": []
  }
 ],
 "metadata": {
  "kernelspec": {
   "display_name": "Python 3",
   "language": "python",
   "name": "python3"
  },
  "language_info": {
   "codemirror_mode": {
    "name": "ipython",
    "version": 3
   },
   "file_extension": ".py",
   "mimetype": "text/x-python",
   "name": "python",
   "nbconvert_exporter": "python",
   "pygments_lexer": "ipython3",
   "version": "3.6.3"
  }
 },
 "nbformat": 4,
 "nbformat_minor": 2
}
